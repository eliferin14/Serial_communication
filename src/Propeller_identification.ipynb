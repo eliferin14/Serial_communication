{
 "cells": [
  {
   "cell_type": "markdown",
   "metadata": {},
   "source": [
    "# Propeller identification\n",
    "We want to charchterize the transfer function of a drone propeller (BLDC motor) by measuring a set of datapoints and applying machine learning techniques to approximate the parameters"
   ]
  },
  {
   "cell_type": "markdown",
   "metadata": {},
   "source": [
    "## Collection of the data points\n",
    "We collect data by interfacing the computer and the board via a serial port.\n",
    "In the PC side we use the pySerial library"
   ]
  },
  {
   "cell_type": "code",
   "execution_count": 45,
   "metadata": {},
   "outputs": [],
   "source": [
    "import serial   # pip install pyserial, not pip install serial !\n",
    "\n",
    "# Serial port parameters\n",
    "port = '/dev/ttyUSB0'   # Depends on the OS\n",
    "baud = 9600\n",
    "timeout = 3\n",
    "\n",
    "# Open te serial port\n",
    "ser = serial.Serial(port, baud, timeout=timeout)\n",
    "ser.flush()"
   ]
  },
  {
   "cell_type": "markdown",
   "metadata": {},
   "source": [
    "We now define two function to simplify reading and writing data via the serial port.\n",
    "Note that this is specific to this particular setup."
   ]
  },
  {
   "cell_type": "code",
   "execution_count": 39,
   "metadata": {},
   "outputs": [],
   "source": [
    "# Returns a string, already decoded and polished\n",
    "def my_readline():\n",
    "    line = ser.readline().decode('UTF-8').strip()\n",
    "    return line\n",
    "\n",
    "# Writes a message, following the protocol we defined:\n",
    "# <message>\n",
    "def my_write(message):\n",
    "    ser.write((\"<\"+message+\">\").encode())"
   ]
  },
  {
   "cell_type": "markdown",
   "metadata": {},
   "source": [
    "To get the data, we first must send a message to the board to tell how to measure. We have to send:\n",
    "- the command: what we want to do\n",
    "- the step: the distance between each input value. Can be negative\n",
    "- the max pwm value to test\n",
    "- the number of samples per input value\n",
    "\n",
    "After that, the board will start the test and will send back data, line by line.\n",
    "Each line sent by the board is a sample, already formatted to be written in a .csv file.\n",
    "While we read the data, we also write it into a .csv file to store all the samples."
   ]
  },
  {
   "cell_type": "code",
   "execution_count": 40,
   "metadata": {},
   "outputs": [],
   "source": [
    "import csv\n",
    "\n",
    "# Given the parameters, build the message string\n",
    "def build_message(command, n_samples, step, max_pwm):\n",
    "    # The words are separated by a space\n",
    "    message = \" \".join([command, str(n_samples), str(step), str(max_pwm)])\n",
    "    return message\n",
    "\n",
    "def build_message(list_of_string):\n",
    "    message = \" \".join(list_of_string)\n",
    "    return message\n",
    "\n",
    "# Given a message and a filename, send the message and store the data in the specified file\n",
    "def get_dataset(message, filename):\n",
    "    ser.flush()\n",
    "    # Open the file\n",
    "    file = open(filename, 'a')\n",
    "    file.truncate(0)\n",
    "\n",
    "    # Setup the csv\n",
    "    csv_writer = csv.writer(file)\n",
    "\n",
    "    # Send the command to get the measurements\n",
    "    my_write(message)\n",
    "\n",
    "    # Listen to the response\n",
    "    while 1:\n",
    "        # Read a line = a row of the matrix S = a sample\n",
    "        line = my_readline()\n",
    "\n",
    "        # Check if the line is empty => skip\n",
    "        if line == '':\n",
    "            continue\n",
    "\n",
    "        # If there is something, I check if it is the termination message\n",
    "        if line == \"Finished\":\n",
    "            file.close()\n",
    "            print(\"Finished\")\n",
    "            break\n",
    "\n",
    "        # Forced stop\n",
    "        if line == 'STOP':\n",
    "            file.close()\n",
    "            print(\"Stopped\")\n",
    "            break\n",
    "\n",
    "        # Exception unhandled\n",
    "        if line == 'Arduino is ready':\n",
    "            print(\"Exception occured\")\n",
    "            break\n",
    "\n",
    "        # If I'm here it is a proper sample\n",
    "        print(line)\n",
    "        values = line.split(',')\n",
    "        #print(values[0], end=' ')\n",
    "        csv_writer.writerow(values)"
   ]
  },
  {
   "cell_type": "markdown",
   "metadata": {},
   "source": [
    "Finally we can collect the data"
   ]
  },
  {
   "cell_type": "code",
   "execution_count": 27,
   "metadata": {},
   "outputs": [
    {
     "name": "stdout",
     "output_type": "stream",
     "text": [
      "Message received: R 10 5 1180 1400. Response: PWM,RPM,Thrust\n",
      "1180.00,0.000,-0.000\n",
      "1185.00,0.000,-0.000\n",
      "1190.00,0.000,-0.000\n"
     ]
    },
    {
     "ename": "KeyboardInterrupt",
     "evalue": "",
     "output_type": "error",
     "traceback": [
      "\u001b[0;31m---------------------------------------------------------------------------\u001b[0m",
      "\u001b[0;31mKeyboardInterrupt\u001b[0m                         Traceback (most recent call last)",
      "Cell \u001b[0;32mIn[27], line 8\u001b[0m\n\u001b[1;32m      6\u001b[0m max_pwm \u001b[39m=\u001b[39m \u001b[39m1400\u001b[39m \u001b[39m# Max value to test\u001b[39;00m\n\u001b[1;32m      7\u001b[0m filename \u001b[39m=\u001b[39m \u001b[39m\"\u001b[39m\u001b[39mDataset_ramp.csv\u001b[39m\u001b[39m\"\u001b[39m\n\u001b[0;32m----> 8\u001b[0m get_dataset(build_message([command, \u001b[39mstr\u001b[39;49m(n_samples), \u001b[39mstr\u001b[39;49m(step), \u001b[39mstr\u001b[39;49m(min_pwm), \u001b[39mstr\u001b[39;49m(max_pwm)]), filename)\n",
      "Cell \u001b[0;32mIn[26], line 29\u001b[0m, in \u001b[0;36mget_dataset\u001b[0;34m(message, filename)\u001b[0m\n\u001b[1;32m     26\u001b[0m \u001b[39m# Listen to the response\u001b[39;00m\n\u001b[1;32m     27\u001b[0m \u001b[39mwhile\u001b[39;00m \u001b[39m1\u001b[39m:\n\u001b[1;32m     28\u001b[0m     \u001b[39m# Read a line = a row of the matrix S = a sample\u001b[39;00m\n\u001b[0;32m---> 29\u001b[0m     line \u001b[39m=\u001b[39m my_readline()\n\u001b[1;32m     31\u001b[0m     \u001b[39m# Check if the line is empty => skip\u001b[39;00m\n\u001b[1;32m     32\u001b[0m     \u001b[39mif\u001b[39;00m line \u001b[39m==\u001b[39m \u001b[39m'\u001b[39m\u001b[39m'\u001b[39m:\n",
      "Cell \u001b[0;32mIn[25], line 3\u001b[0m, in \u001b[0;36mmy_readline\u001b[0;34m()\u001b[0m\n\u001b[1;32m      2\u001b[0m \u001b[39mdef\u001b[39;00m \u001b[39mmy_readline\u001b[39m():\n\u001b[0;32m----> 3\u001b[0m     line \u001b[39m=\u001b[39m ser\u001b[39m.\u001b[39;49mreadline()\u001b[39m.\u001b[39mdecode(\u001b[39m'\u001b[39m\u001b[39mascii\u001b[39m\u001b[39m'\u001b[39m)\u001b[39m.\u001b[39mstrip()\n\u001b[1;32m      4\u001b[0m     \u001b[39mreturn\u001b[39;00m line\n",
      "File \u001b[0;32m/usr/lib/python3.11/site-packages/serial/serialposix.py:565\u001b[0m, in \u001b[0;36mSerial.read\u001b[0;34m(self, size)\u001b[0m\n\u001b[1;32m    563\u001b[0m \u001b[39mwhile\u001b[39;00m \u001b[39mlen\u001b[39m(read) \u001b[39m<\u001b[39m size:\n\u001b[1;32m    564\u001b[0m     \u001b[39mtry\u001b[39;00m:\n\u001b[0;32m--> 565\u001b[0m         ready, _, _ \u001b[39m=\u001b[39m select\u001b[39m.\u001b[39mselect([\u001b[39mself\u001b[39m\u001b[39m.\u001b[39mfd, \u001b[39mself\u001b[39m\u001b[39m.\u001b[39mpipe_abort_read_r], [], [], timeout\u001b[39m.\u001b[39mtime_left())\n\u001b[1;32m    566\u001b[0m         \u001b[39mif\u001b[39;00m \u001b[39mself\u001b[39m\u001b[39m.\u001b[39mpipe_abort_read_r \u001b[39min\u001b[39;00m ready:\n\u001b[1;32m    567\u001b[0m             os\u001b[39m.\u001b[39mread(\u001b[39mself\u001b[39m\u001b[39m.\u001b[39mpipe_abort_read_r, \u001b[39m1000\u001b[39m)\n",
      "\u001b[0;31mKeyboardInterrupt\u001b[0m: "
     ]
    }
   ],
   "source": [
    "# Collect the data for the ramp\n",
    "command = 'R'   # Measure\n",
    "n_samples = 10  # How many samples do I want to average for each input value\n",
    "step = 5      # Step for the input signal\n",
    "min_pwm = 1180   # Start from here\n",
    "max_pwm = 1400 # Max value to test\n",
    "filename = \"Dataset_ramp.csv\"\n",
    "get_dataset(build_message([command, str(n_samples), str(step), str(min_pwm), str(max_pwm)]), filename)"
   ]
  },
  {
   "cell_type": "markdown",
   "metadata": {},
   "source": [
    "## Plot\n",
    "After collecting the data, we draw a beautiful plot.\n",
    "\n",
    "Before actually drawing the plot, we have to get the data from the file we created"
   ]
  },
  {
   "cell_type": "code",
   "execution_count": 5,
   "metadata": {},
   "outputs": [
    {
     "name": "stdout",
     "output_type": "stream",
     "text": [
      "      PWM       RPM  Thrust\n",
      "5  1205.0     0.000  -0.000\n",
      "6  1210.0     0.000  -0.000\n",
      "7  1215.0  1097.293  -0.004\n",
      "8  1220.0  1543.162  -0.009\n",
      "9  1225.0  1722.747  -0.010\n"
     ]
    }
   ],
   "source": [
    "import pandas\n",
    "data_frame = pandas.read_csv(filename)\n",
    "print(data_frame.tail())"
   ]
  },
  {
   "cell_type": "code",
   "execution_count": null,
   "metadata": {},
   "outputs": [],
   "source": [
    "# https://matplotlib.org/stable/tutorials/introductory/quick_start.html#sphx-glr-tutorials-introductory-quick-start-py\n",
    "import matplotlib as mpl\n",
    "import matplotlib.pyplot as plt\n",
    "\n",
    "data_frame.plot(x='PWM', y='RPM', kind='scatter', s=3, c='blue')\n",
    "data_frame.plot(x='PWM', y='Thrust', kind='scatter', s=3, c='red')\n",
    "data_frame.plot(x='RPM', y='Thrust', kind='scatter', s=3, c='red')"
   ]
  },
  {
   "cell_type": "markdown",
   "metadata": {},
   "source": [
    "## Step response\n",
    "Now we measure the step response of the propeller.\n",
    "\n",
    "The value at which we measure it coincides with the chosen operating point in the final system.\n",
    "\n",
    "Additionally, we indicate to the board which interval to measure."
   ]
  },
  {
   "cell_type": "code",
   "execution_count": 48,
   "metadata": {},
   "outputs": [],
   "source": [
    "command = 'S'\n",
    "step_value = 1400\n",
    "n_samples = 1000\n",
    "max_time = 3000    # milliseconds\n",
    "filename = 'Dataset_step.csv'"
   ]
  },
  {
   "cell_type": "code",
   "execution_count": 49,
   "metadata": {},
   "outputs": [
    {
     "name": "stdout",
     "output_type": "stream",
     "text": [
      "Message received: S 1400 3000. Response: Command: S, Step: 0, max_time: 0\n",
      "T,RPM\n",
      "0,0\n",
      "1000.000,0\n",
      "Finished\n"
     ]
    }
   ],
   "source": [
    "get_dataset(build_message([command, str(step_value), str(max_time)]), filename)"
   ]
  },
  {
   "cell_type": "code",
   "execution_count": 12,
   "metadata": {},
   "outputs": [
    {
     "name": "stdout",
     "output_type": "stream",
     "text": [
      "          T       RPM\n",
      "5  1349.660  1887.267\n",
      "6  1374.439  2421.405\n",
      "7  1394.776  2950.288\n",
      "8  1412.209  3441.748\n",
      "9  1427.735  3864.485\n"
     ]
    },
    {
     "data": {
      "text/plain": [
       "<Axes: xlabel='T', ylabel='RPM'>"
      ]
     },
     "execution_count": 12,
     "metadata": {},
     "output_type": "execute_result"
    },
    {
     "data": {
      "image/png": "[encoded data removed]",
      "text/plain": [
       "<Figure size 640x480 with 1 Axes>"
      ]
     },
     "metadata": {},
     "output_type": "display_data"
    }
   ],
   "source": [
    "data_frame_step = pandas.read_csv(filename)\n",
    "print(data_frame_step.tail())\n",
    "data_frame_step.plot(x='T', y='RPM', kind='scatter', c='blue')"
   ]
  }
 ],
 "metadata": {
  "kernelspec": {
   "display_name": "Python 3 (ipykernel)",
   "language": "python",
   "name": "python3"
  },
  "language_info": {
   "codemirror_mode": {
    "name": "ipython",
    "version": 3
   },
   "file_extension": ".py",
   "mimetype": "text/x-python",
   "name": "python",
   "nbconvert_exporter": "python",
   "pygments_lexer": "ipython3",
   "version": "3.11.3"
  },
  "orig_nbformat": 4,
  "vscode": {
   "interpreter": {
    "hash": "e7370f93d1d0cde622a1f8e1c04877d8463912d04d973331ad4851f04de6915a"
   }
  }
 },
 "nbformat": 4,
 "nbformat_minor": 2
}
