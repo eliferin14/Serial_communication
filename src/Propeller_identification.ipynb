{
 "cells": [
  {
   "cell_type": "markdown",
   "metadata": {},
   "source": [
    "# Propeller identification\n",
    "We want to charchterize the transfer function of a drone propeller (BLDC motor) by measuring a set of datapoints and applying machine learning techniques to approximate the parameters"
   ]
  },
  {
   "cell_type": "markdown",
   "metadata": {},
   "source": [
    "## Collection of the data points\n",
    "We collect data by interfacing the computer and the board via a serial port.\n",
    "In the PC side we use the pySerial library"
   ]
  },
  {
   "cell_type": "code",
   "execution_count": 58,
   "metadata": {},
   "outputs": [],
   "source": [
    "import serial   # pip install pyserial, not pip install serial !\n",
    "\n",
    "# Serial port parameters\n",
    "port = '/dev/ttyUSB0'   # Depends on the OS\n",
    "baud = 9600\n",
    "timeout = 3\n",
    "\n",
    "# Open te serial port\n",
    "ser = serial.Serial(port, baud, timeout=timeout)\n",
    "ser.flush()"
   ]
  },
  {
   "cell_type": "markdown",
   "metadata": {},
   "source": [
    "We now define two function to simplify reading and writing data via the serial port.\n",
    "Note that this is specific to this particular setup."
   ]
  },
  {
   "cell_type": "code",
   "execution_count": 39,
   "metadata": {},
   "outputs": [],
   "source": [
    "# Returns a string, already decoded and polished\n",
    "def my_readline():\n",
    "    line = ser.readline().decode('UTF-8').strip()\n",
    "    return line\n",
    "\n",
    "# Writes a message, following the protocol we defined:\n",
    "# <message>\n",
    "def my_write(message):\n",
    "    ser.write((\"<\"+message+\">\").encode())"
   ]
  },
  {
   "cell_type": "markdown",
   "metadata": {},
   "source": [
    "To get the data, we first must send a message to the board to tell how to measure. We have to send:\n",
    "- the command: what we want to do\n",
    "- the step: the distance between each input value. Can be negative\n",
    "- the max pwm value to test\n",
    "- the number of samples per input value\n",
    "\n",
    "After that, the board will start the test and will send back data, line by line.\n",
    "Each line sent by the board is a sample, already formatted to be written in a .csv file.\n",
    "While we read the data, we also write it into a .csv file to store all the samples."
   ]
  },
  {
   "cell_type": "code",
   "execution_count": 64,
   "metadata": {},
   "outputs": [],
   "source": [
    "import csv\n",
    "\n",
    "# Given the parameters, build the message string\n",
    "def build_message(command, n_samples, step, max_pwm):\n",
    "    # The words are separated by a space\n",
    "    message = \" \".join([command, str(n_samples), str(step), str(max_pwm)])\n",
    "    return message\n",
    "\n",
    "def build_message(list_of_string):\n",
    "    message = \" \".join(list_of_string)\n",
    "    return message\n",
    "\n",
    "# Given a message and a filename, send the message and store the data in the specified file\n",
    "def get_dataset(message, filename):\n",
    "    ser.flush()\n",
    "    # Open the file\n",
    "    file = open(filename, 'a')\n",
    "    file.truncate(0)\n",
    "\n",
    "    # Setup the csv\n",
    "    csv_writer = csv.writer(file)\n",
    "\n",
    "    # Send the command to get the measurements\n",
    "    my_write(message)\n",
    "\n",
    "    # Listen to the response\n",
    "    while 1:\n",
    "        # Read a line = a row of the matrix S = a sample\n",
    "        line = my_readline()\n",
    "\n",
    "        # Check if the line is empty => skip\n",
    "        if line == '':\n",
    "            continue\n",
    "\n",
    "        # If there is something, I check if it is the termination message\n",
    "        if line == \"Finished\":\n",
    "            file.close()\n",
    "            print(\"Finished\")\n",
    "            break\n",
    "\n",
    "        # Forced stop\n",
    "        if line == 'STOP':\n",
    "            file.close()\n",
    "            print(\"Stopped\")\n",
    "            break\n",
    "\n",
    "        # Exception unhandled\n",
    "        if line == 'Arduino is ready':\n",
    "            print(\"Exception occured\")\n",
    "            break\n",
    "\n",
    "        # If I'm here it is a proper sample\n",
    "        print(line)\n",
    "        values = line.split(',')\n",
    "        if 'Message' in values[0]:\n",
    "            continue\n",
    "        \n",
    "        csv_writer.writerow(values)"
   ]
  },
  {
   "cell_type": "markdown",
   "metadata": {},
   "source": [
    "Finally we can collect the data"
   ]
  },
  {
   "cell_type": "code",
   "execution_count": 27,
   "metadata": {},
   "outputs": [
    {
     "name": "stdout",
     "output_type": "stream",
     "text": [
      "Message received: R 10 5 1180 1400. Response: PWM,RPM,Thrust\n",
      "1180.00,0.000,-0.000\n",
      "1185.00,0.000,-0.000\n",
      "1190.00,0.000,-0.000\n"
     ]
    },
    {
     "ename": "KeyboardInterrupt",
     "evalue": "",
     "output_type": "error",
     "traceback": [
      "\u001b[0;31m---------------------------------------------------------------------------\u001b[0m",
      "\u001b[0;31mKeyboardInterrupt\u001b[0m                         Traceback (most recent call last)",
      "Cell \u001b[0;32mIn[27], line 8\u001b[0m\n\u001b[1;32m      6\u001b[0m max_pwm \u001b[39m=\u001b[39m \u001b[39m1400\u001b[39m \u001b[39m# Max value to test\u001b[39;00m\n\u001b[1;32m      7\u001b[0m filename \u001b[39m=\u001b[39m \u001b[39m\"\u001b[39m\u001b[39mDataset_ramp.csv\u001b[39m\u001b[39m\"\u001b[39m\n\u001b[0;32m----> 8\u001b[0m get_dataset(build_message([command, \u001b[39mstr\u001b[39;49m(n_samples), \u001b[39mstr\u001b[39;49m(step), \u001b[39mstr\u001b[39;49m(min_pwm), \u001b[39mstr\u001b[39;49m(max_pwm)]), filename)\n",
      "Cell \u001b[0;32mIn[26], line 29\u001b[0m, in \u001b[0;36mget_dataset\u001b[0;34m(message, filename)\u001b[0m\n\u001b[1;32m     26\u001b[0m \u001b[39m# Listen to the response\u001b[39;00m\n\u001b[1;32m     27\u001b[0m \u001b[39mwhile\u001b[39;00m \u001b[39m1\u001b[39m:\n\u001b[1;32m     28\u001b[0m     \u001b[39m# Read a line = a row of the matrix S = a sample\u001b[39;00m\n\u001b[0;32m---> 29\u001b[0m     line \u001b[39m=\u001b[39m my_readline()\n\u001b[1;32m     31\u001b[0m     \u001b[39m# Check if the line is empty => skip\u001b[39;00m\n\u001b[1;32m     32\u001b[0m     \u001b[39mif\u001b[39;00m line \u001b[39m==\u001b[39m \u001b[39m'\u001b[39m\u001b[39m'\u001b[39m:\n",
      "Cell \u001b[0;32mIn[25], line 3\u001b[0m, in \u001b[0;36mmy_readline\u001b[0;34m()\u001b[0m\n\u001b[1;32m      2\u001b[0m \u001b[39mdef\u001b[39;00m \u001b[39mmy_readline\u001b[39m():\n\u001b[0;32m----> 3\u001b[0m     line \u001b[39m=\u001b[39m ser\u001b[39m.\u001b[39;49mreadline()\u001b[39m.\u001b[39mdecode(\u001b[39m'\u001b[39m\u001b[39mascii\u001b[39m\u001b[39m'\u001b[39m)\u001b[39m.\u001b[39mstrip()\n\u001b[1;32m      4\u001b[0m     \u001b[39mreturn\u001b[39;00m line\n",
      "File \u001b[0;32m/usr/lib/python3.11/site-packages/serial/serialposix.py:565\u001b[0m, in \u001b[0;36mSerial.read\u001b[0;34m(self, size)\u001b[0m\n\u001b[1;32m    563\u001b[0m \u001b[39mwhile\u001b[39;00m \u001b[39mlen\u001b[39m(read) \u001b[39m<\u001b[39m size:\n\u001b[1;32m    564\u001b[0m     \u001b[39mtry\u001b[39;00m:\n\u001b[0;32m--> 565\u001b[0m         ready, _, _ \u001b[39m=\u001b[39m select\u001b[39m.\u001b[39mselect([\u001b[39mself\u001b[39m\u001b[39m.\u001b[39mfd, \u001b[39mself\u001b[39m\u001b[39m.\u001b[39mpipe_abort_read_r], [], [], timeout\u001b[39m.\u001b[39mtime_left())\n\u001b[1;32m    566\u001b[0m         \u001b[39mif\u001b[39;00m \u001b[39mself\u001b[39m\u001b[39m.\u001b[39mpipe_abort_read_r \u001b[39min\u001b[39;00m ready:\n\u001b[1;32m    567\u001b[0m             os\u001b[39m.\u001b[39mread(\u001b[39mself\u001b[39m\u001b[39m.\u001b[39mpipe_abort_read_r, \u001b[39m1000\u001b[39m)\n",
      "\u001b[0;31mKeyboardInterrupt\u001b[0m: "
     ]
    }
   ],
   "source": [
    "# Collect the data for the ramp\n",
    "command = 'R'   # Measure\n",
    "n_samples = 10  # How many samples do I want to average for each input value\n",
    "step = 5      # Step for the input signal\n",
    "min_pwm = 1180   # Start from here\n",
    "max_pwm = 1400 # Max value to test\n",
    "filename = \"Dataset_ramp.csv\"\n",
    "get_dataset(build_message([command, str(n_samples), str(step), str(min_pwm), str(max_pwm)]), filename)"
   ]
  },
  {
   "cell_type": "markdown",
   "metadata": {},
   "source": [
    "## Plot\n",
    "After collecting the data, we draw a beautiful plot.\n",
    "\n",
    "Before actually drawing the plot, we have to get the data from the file we created"
   ]
  },
  {
   "cell_type": "code",
   "execution_count": 5,
   "metadata": {},
   "outputs": [
    {
     "name": "stdout",
     "output_type": "stream",
     "text": [
      "      PWM       RPM  Thrust\n",
      "5  1205.0     0.000  -0.000\n",
      "6  1210.0     0.000  -0.000\n",
      "7  1215.0  1097.293  -0.004\n",
      "8  1220.0  1543.162  -0.009\n",
      "9  1225.0  1722.747  -0.010\n"
     ]
    }
   ],
   "source": [
    "import pandas\n",
    "data_frame = pandas.read_csv(filename)\n",
    "print(data_frame.tail())"
   ]
  },
  {
   "cell_type": "code",
   "execution_count": null,
   "metadata": {},
   "outputs": [],
   "source": [
    "# https://matplotlib.org/stable/tutorials/introductory/quick_start.html#sphx-glr-tutorials-introductory-quick-start-py\n",
    "import matplotlib as mpl\n",
    "import matplotlib.pyplot as plt\n",
    "\n",
    "data_frame.plot(x='PWM', y='RPM', kind='scatter', s=3, c='blue')\n",
    "data_frame.plot(x='PWM', y='Thrust', kind='scatter', s=3, c='red')\n",
    "data_frame.plot(x='RPM', y='Thrust', kind='scatter', s=3, c='red')"
   ]
  },
  {
   "cell_type": "markdown",
   "metadata": {},
   "source": [
    "## Step response\n",
    "Now we measure the step response of the propeller.\n",
    "\n",
    "The value at which we measure it coincides with the chosen operating point in the final system.\n",
    "\n",
    "Additionally, we indicate to the board which interval to measure."
   ]
  },
  {
   "cell_type": "code",
   "execution_count": 67,
   "metadata": {},
   "outputs": [],
   "source": [
    "command = 'S'\n",
    "step_value = 1400\n",
    "n_samples = 1000\n",
    "max_time = 2000    # milliseconds\n",
    "filename = 'Dataset_step.csv'"
   ]
  },
  {
   "cell_type": "code",
   "execution_count": 69,
   "metadata": {},
   "outputs": [
    {
     "name": "stdout",
     "output_type": "stream",
     "text": [
      "Message received: S 1400 2000. Response: Command: S, Step: 0, max_time: 0\n",
      "T,RPM\n",
      "0,0\n",
      "1000.000,0\n",
      "10168, 6.544\n",
      "10223, 1093.494\n",
      "10262, 1513.012\n",
      "10292, 2000.467\n",
      "10316, 2561.366\n",
      "10335, 3096.934\n",
      "10352, 3583.801\n",
      "10367, 3957.523\n",
      "10381, 4220.597\n",
      "10395, 4424.453\n",
      "10408, 4571.080\n",
      "10421, 4695.938\n",
      "10433, 4804.228\n",
      "10445, 4886.392\n",
      "10458, 4958.268\n",
      "10470, 5026.810\n",
      "10481, 5080.871\n",
      "10493, 5126.015\n",
      "10505, 5163.067\n",
      "10516, 5193.906\n",
      "10528, 5225.115\n",
      "10539, 5255.321\n",
      "10550, 5277.973\n",
      "10562, 5299.417\n",
      "10573, 5318.677\n",
      "10584, 5342.356\n",
      "10596, 5354.752\n",
      "10607, 5365.767\n",
      "10618, 5374.899\n",
      "10629, 5394.713\n",
      "10640, 5408.329\n",
      "10651, 5415.163\n",
      "10662, 5419.564\n",
      "10673, 5423.974\n",
      "10684, 5434.783\n",
      "10695, 5441.683\n",
      "10706, 5437.738\n",
      "10717, 5446.129\n",
      "10728, 5447.612\n",
      "10739, 5459.509\n",
      "10750, 5457.026\n",
      "10761, 5456.034\n",
      "10772, 5458.515\n",
      "10783, 5470.459\n",
      "10794, 5465.974\n",
      "10805, 5465.477\n",
      "10816, 5465.477\n",
      "10827, 5475.952\n",
      "10838, 5471.457\n",
      "10849, 5474.453\n",
      "10860, 5472.455\n",
      "10871, 5476.951\n",
      "10882, 5479.452\n",
      "10893, 5483.959\n",
      "10904, 5476.951\n",
      "10915, 5477.451\n",
      "10926, 5478.952\n",
      "10937, 5486.968\n",
      "10948, 5481.455\n",
      "10959, 5477.951\n",
      "10970, 5478.452\n",
      "10981, 5485.965\n",
      "10992, 5483.959\n",
      "11002, 5479.953\n",
      "11013, 5479.953\n",
      "11024, 5481.955\n",
      "11035, 5486.968\n",
      "11046, 5484.461\n",
      "11057, 5475.452\n",
      "11068, 5480.453\n",
      "11079, 5480.954\n",
      "11090, 5488.474\n",
      "11101, 5479.452\n",
      "11112, 5481.455\n",
      "11123, 5481.955\n",
      "11134, 5487.972\n",
      "11145, 5480.453\n",
      "11156, 5476.451\n",
      "11167, 5479.953\n",
      "11178, 5485.965\n",
      "11189, 5484.461\n",
      "11199, 5480.453\n",
      "11210, 5479.452\n",
      "11221, 5483.458\n",
      "11232, 5489.981\n",
      "11243, 5485.463\n",
      "11254, 5482.957\n",
      "11265, 5486.968\n",
      "11276, 5487.972\n",
      "11287, 5490.483\n",
      "11298, 5485.463\n",
      "11309, 5483.458\n",
      "11320, 5485.965\n",
      "11331, 5489.479\n",
      "11342, 5481.955\n",
      "11353, 5483.959\n",
      "11364, 5483.458\n",
      "11375, 5481.455\n",
      "11385, 5483.959\n",
      "11396, 5482.456\n",
      "11407, 5483.458\n",
      "11418, 5486.467\n",
      "11429, 5491.488\n",
      "11440, 5489.479\n",
      "11451, 5488.474\n",
      "11462, 5487.470\n",
      "11473, 5492.997\n",
      "11484, 5492.997\n",
      "11495, 5485.463\n",
      "11506, 5492.494\n",
      "11517, 5482.456\n",
      "11528, 5492.494\n",
      "11538, 5485.965\n",
      "11549, 5483.458\n",
      "11560, 5486.467\n",
      "11571, 5485.463\n",
      "11582, 5487.972\n",
      "11593, 5480.453\n",
      "11604, 5478.452\n",
      "11615, 5483.458\n",
      "11626, 5482.957\n",
      "11637, 5476.451\n",
      "11648, 5481.955\n",
      "11659, 5476.951\n",
      "11670, 5480.954\n",
      "11681, 5483.458\n",
      "11692, 5478.952\n",
      "11703, 5480.453\n",
      "11714, 5476.951\n",
      "11725, 5483.959\n",
      "11736, 5477.951\n",
      "11746, 5479.452\n",
      "11757, 5478.952\n",
      "11768, 5483.458\n",
      "11779, 5481.955\n",
      "11790, 5479.953\n",
      "11801, 5481.455\n",
      "11812, 5475.452\n",
      "11823, 5484.962\n",
      "11834, 5476.451\n",
      "11845, 5478.452\n",
      "11856, 5480.453\n",
      "11867, 5481.455\n",
      "11878, 5483.959\n",
      "11889, 5482.957\n",
      "11900, 5483.458\n",
      "11911, 5484.962\n",
      "11922, 5489.981\n",
      "11933, 5483.959\n",
      "11943, 5482.957\n",
      "11954, 5486.968\n",
      "1010, 0.000\n",
      "1010, 0.000\n",
      "1010, 0.000\n",
      "1011, 0.000\n",
      "1011, 0.000\n",
      "1012, 0.000\n",
      "1013, 0.000\n",
      "1013, 0.000\n",
      "1014, 0.000\n",
      "1015, 0.000\n",
      "1015, 0.000\n",
      "1016, 0.000\n",
      "1017, 0.000\n",
      "1018, 0.000\n",
      "1019, 0.000\n",
      "1020, 0.000\n",
      "1021, 0.000\n",
      "1023, 0.000\n",
      "1024, 0.000\n",
      "1026, 0.000\n",
      "1027, 0.000\n",
      "1029, 0.000\n",
      "1032, 0.000\n",
      "1034, 0.000\n",
      "1037, 0.000\n",
      "1041, 0.000\n",
      "1046, 0.000\n",
      "1052, 0.000\n",
      "1060, 0.000\n",
      "1072, 0.000\n",
      "1092, 0.000\n",
      "1153, 0.000\n",
      "Finished\n"
     ]
    }
   ],
   "source": [
    "ser = serial.Serial(port, baud, timeout=timeout)\n",
    "get_dataset(build_message([command, str(step_value), str(max_time)]), filename)"
   ]
  },
  {
   "cell_type": "code",
   "execution_count": 70,
   "metadata": {},
   "outputs": [
    {
     "name": "stdout",
     "output_type": "stream",
     "text": [
      "          T  RPM\n",
      "180  1052.0  0.0\n",
      "181  1060.0  0.0\n",
      "182  1072.0  0.0\n",
      "183  1092.0  0.0\n",
      "184  1153.0  0.0\n"
     ]
    },
    {
     "data": {
      "text/plain": [
       "<Axes: xlabel='T', ylabel='RPM'>"
      ]
     },
     "execution_count": 70,
     "metadata": {},
     "output_type": "execute_result"
    },
    {
     "data": {
      "image/png": "[encoded data removed]",
      "text/plain": [
       "<Figure size 640x480 with 1 Axes>"
      ]
     },
     "metadata": {},
     "output_type": "display_data"
    }
   ],
   "source": [
    "data_frame_step = pandas.read_csv(filename)\n",
    "print(data_frame_step.tail())\n",
    "data_frame_step.plot(x='T', y='RPM', kind='scatter', c='blue')"
   ]
  }
 ],
 "metadata": {
  "kernelspec": {
   "display_name": "Python 3 (ipykernel)",
   "language": "python",
   "name": "python3"
  },
  "language_info": {
   "codemirror_mode": {
    "name": "ipython",
    "version": 3
   },
   "file_extension": ".py",
   "mimetype": "text/x-python",
   "name": "python",
   "nbconvert_exporter": "python",
   "pygments_lexer": "ipython3",
   "version": "3.11.3"
  },
  "orig_nbformat": 4,
  "vscode": {
   "interpreter": {
    "hash": "e7370f93d1d0cde622a1f8e1c04877d8463912d04d973331ad4851f04de6915a"
   }
  }
 },
 "nbformat": 4,
 "nbformat_minor": 2
}
