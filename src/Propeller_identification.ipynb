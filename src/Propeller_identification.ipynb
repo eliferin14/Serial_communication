{
 "cells": [
  {
   "cell_type": "markdown",
   "metadata": {},
   "source": [
    "# Propeller identification\n",
    "We want to charchterize the transfer function of a drone propeller (BLDC motor) by measuring a set of datapoints and applying machine learning techniques to approximate the parameters"
   ]
  },
  {
   "cell_type": "markdown",
   "metadata": {},
   "source": [
    "## Collection of the data points\n",
    "We collect data by interfacing the computer and the board via a serial port.\n",
    "In the PC side we use the pySerial library"
   ]
  },
  {
   "cell_type": "code",
   "execution_count": 134,
   "metadata": {},
   "outputs": [],
   "source": [
    "import serial   # pip install pyserial, not pip install serial !\n",
    "\n",
    "# Serial port parameters\n",
    "port = '/dev/ttyUSB0'   # Depends on the OS\n",
    "baud = 115200\n",
    "timeout = 1\n",
    "\n",
    "# Open te serial port\n",
    "ser = serial.Serial(port, baud, timeout=timeout)\n",
    "ser.flush()"
   ]
  },
  {
   "cell_type": "markdown",
   "metadata": {},
   "source": [
    "We now define two function to simplify reading and writing data via the serial port.\n",
    "Note that this is specific to this particular setup."
   ]
  },
  {
   "cell_type": "code",
   "execution_count": 135,
   "metadata": {},
   "outputs": [],
   "source": [
    "# Returns a string, already decoded and polished\n",
    "def my_readline():\n",
    "    line = ser.readline().decode('ascii').strip()\n",
    "    return line\n",
    "\n",
    "# Writes a message, following the protocol we defined:\n",
    "# <message>\n",
    "def my_write(message):\n",
    "    ser.write((\"<\"+message+\">\").encode())"
   ]
  },
  {
   "cell_type": "markdown",
   "metadata": {},
   "source": [
    "To get the data, we first must send a message to the board to tell how to measure. We have to send:\n",
    "- the command: what we want to do\n",
    "- the step: the distance between each input value. Can be negative\n",
    "- the number of samples per input value\n",
    "\n",
    "After that, the board will start the test and will send back data, line by line.\n",
    "Each line sent by the board is a sample, already formatted to be written in a .csv file.\n",
    "While we read the data, we also write it into a .csv file to store all the samples."
   ]
  },
  {
   "cell_type": "code",
   "execution_count": 136,
   "metadata": {},
   "outputs": [],
   "source": [
    "import csv\n",
    "\n",
    "# Given the parameters, build the message string\n",
    "def build_message(command, n_samples, step):\n",
    "    # The words are separated by a space\n",
    "    message = \" \".join([command, str(n_samples), str(step)])\n",
    "    return message\n",
    "\n",
    "# Given a message and a filename, send the message and store the data in the specified file\n",
    "def get_dataset(message, filename):\n",
    "    # Open the file\n",
    "    file = open(filename, 'a')\n",
    "    file.truncate(0)\n",
    "\n",
    "    # Setup the csv\n",
    "    csv_writer = csv.writer(file)\n",
    "\n",
    "    # Send the command to get the measurements\n",
    "    my_write(message)\n",
    "\n",
    "    # Listen to the response\n",
    "    while 1:\n",
    "        # Read a line = a row of the matrix S = a sample\n",
    "        line = my_readline()\n",
    "\n",
    "        # Check if the line is empty => skip\n",
    "        if line == '':\n",
    "            continue\n",
    "\n",
    "        # If there is something, I check if it is the termination message\n",
    "        if line == \"Finished\":\n",
    "            file.close()\n",
    "            break\n",
    "\n",
    "        # If I'm here it is a proper sample\n",
    "        values = line.split(',')\n",
    "        #print(line)\n",
    "        csv_writer.writerow(values)"
   ]
  },
  {
   "cell_type": "markdown",
   "metadata": {},
   "source": [
    "Finally we can collect the data"
   ]
  },
  {
   "cell_type": "code",
   "execution_count": 137,
   "metadata": {},
   "outputs": [],
   "source": [
    "# Collect the data\n",
    "command = 'M'   # Measure\n",
    "n_samples = 1000  # How many samples do I want to average for each input value\n",
    "step = 1      # Step for the input signal\n",
    "filename = \"Dataset.csv\"\n",
    "get_dataset(build_message(command, n_samples, step), filename)"
   ]
  },
  {
   "cell_type": "markdown",
   "metadata": {},
   "source": [
    "## Plot\n",
    "After collecting the data, we draw a beautiful plot.\n",
    "\n",
    "Before actually drawing the plot, we have to get the data from the file we created"
   ]
  },
  {
   "cell_type": "code",
   "execution_count": 138,
   "metadata": {},
   "outputs": [
    {
     "name": "stdout",
     "output_type": "stream",
     "text": [
      "   PWM   RPM  Voltage  Current  Force\n",
      "0  0.0   9.0     40.0    184.0    9.0\n",
      "1  1.0   2.3     40.0    186.0    0.6\n",
      "2  2.0   7.6     45.0    181.0    9.2\n",
      "3  3.0   0.9     43.0    181.0    1.8\n",
      "4  4.0  10.2     46.0    182.0    2.4\n"
     ]
    }
   ],
   "source": [
    "import pandas\n",
    "data_frame = pandas.read_csv(filename)\n",
    "print(data_frame.head())"
   ]
  },
  {
   "cell_type": "code",
   "execution_count": 139,
   "metadata": {},
   "outputs": [
    {
     "data": {
      "image/png": "[encoded data removed]",
      "text/plain": [
       "<Figure size 640x480 with 1 Axes>"
      ]
     },
     "metadata": {},
     "output_type": "display_data"
    }
   ],
   "source": [
    "# https://matplotlib.org/stable/tutorials/introductory/quick_start.html#sphx-glr-tutorials-introductory-quick-start-py\n",
    "import matplotlib as mpl\n",
    "import matplotlib.pyplot as plt\n",
    "\n",
    "axes = data_frame.plot(x='PWM', y='RPM', kind='scatter', s=1, c='blue')\n",
    "data_frame.plot(x='PWM', y='Voltage', kind='scatter', s=1, c='green', ax=axes)\n",
    "data_frame.plot(x='PWM', y='Current', kind='scatter', s=1, c='orange', ax=axes)\n",
    "data_frame.plot(x='PWM', y='Force', kind='scatter', s=1, c='red', ax=axes)\n",
    "plt.show()"
   ]
  }
 ],
 "metadata": {
  "kernelspec": {
   "display_name": "Python 3.10.8 64-bit",
   "language": "python",
   "name": "python3"
  },
  "language_info": {
   "codemirror_mode": {
    "name": "ipython",
    "version": 3
   },
   "file_extension": ".py",
   "mimetype": "text/x-python",
   "name": "python",
   "nbconvert_exporter": "python",
   "pygments_lexer": "ipython3",
   "version": "3.10.8"
  },
  "orig_nbformat": 4,
  "vscode": {
   "interpreter": {
    "hash": "e7370f93d1d0cde622a1f8e1c04877d8463912d04d973331ad4851f04de6915a"
   }
  }
 },
 "nbformat": 4,
 "nbformat_minor": 2
}
