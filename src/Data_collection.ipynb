{
 "cells": [
  {
   "cell_type": "markdown",
   "metadata": {},
   "source": [
    "# Propeller identification\n",
    "We want to charchterize the transfer function of a drone propeller (BLDC motor) by measuring a set of datapoints and applying machine learning techniques to approximate the parameters"
   ]
  },
  {
   "cell_type": "code",
   "execution_count": 32,
   "metadata": {},
   "outputs": [],
   "source": [
    "import pandas\n",
    "import serial   # pip install pyserial, not pip install serial !\n",
    "import matplotlib.pyplot as plt"
   ]
  },
  {
   "cell_type": "markdown",
   "metadata": {},
   "source": [
    "## Collection of the data points\n",
    "We collect data by interfacing the computer and the board via a serial port.\n",
    "In the PC side we use the pySerial library"
   ]
  },
  {
   "cell_type": "code",
   "execution_count": 3,
   "metadata": {},
   "outputs": [],
   "source": [
    "# Serial port parameters\n",
    "port = '/dev/ttyUSB1'   # Depends on the OS\n",
    "baud = 9600\n",
    "timeout = 3\n",
    "\n",
    "# Open te serial port\n",
    "ser = serial.Serial(port, baud, timeout=timeout)\n",
    "ser.flush()"
   ]
  },
  {
   "cell_type": "markdown",
   "metadata": {},
   "source": [
    "We now define two function to simplify reading and writing data via the serial port.\n",
    "Note that this is specific to this particular setup."
   ]
  },
  {
   "cell_type": "code",
   "execution_count": 4,
   "metadata": {},
   "outputs": [],
   "source": [
    "# Returns a string, already decoded and polished\n",
    "def my_readline():\n",
    "    line = ser.readline().decode('UTF-8').strip()\n",
    "    return line\n",
    "\n",
    "# Writes a message, following the protocol we defined:\n",
    "# <message>\n",
    "def my_write(message):\n",
    "    ser.write((\"<\"+message+\">\").encode())"
   ]
  },
  {
   "cell_type": "code",
   "execution_count": 6,
   "metadata": {},
   "outputs": [],
   "source": [
    "import csv\n",
    "\n",
    "# Given the parameters, build the message string\n",
    "def build_message(command, n_samples, step, max_pwm):\n",
    "    # The words are separated by a space\n",
    "    message = \" \".join([command, str(n_samples), str(step), str(max_pwm)])\n",
    "    return message\n",
    "\n",
    "def build_message(list_of_string):\n",
    "    message = \" \".join(list_of_string)\n",
    "    return message\n",
    "\n",
    "# Given a message and a filename, send the message and store the data in the specified file\n",
    "def get_dataset(message, filename):\n",
    "    ser.flush()\n",
    "    # Open the file\n",
    "    file = open(filename, 'a')\n",
    "    file.truncate(0)\n",
    "\n",
    "    # Setup the csv\n",
    "    csv_writer = csv.writer(file)\n",
    "\n",
    "    # Send the command to get the measurements\n",
    "    my_write(message)\n",
    "\n",
    "    # Listen to the response\n",
    "    while 1:\n",
    "        # Read a line = a row of the matrix S = a sample\n",
    "        line = my_readline()\n",
    "\n",
    "        # Check if the line is empty => skip\n",
    "        if line == '':\n",
    "            continue\n",
    "\n",
    "        # If there is something, I check if it is the termination message\n",
    "        if line == \"Finished\":\n",
    "            file.close()\n",
    "            print(\"Finished\")\n",
    "            break\n",
    "\n",
    "        # Forced stop\n",
    "        if line == 'STOP':\n",
    "            file.close()\n",
    "            print(\"Stopped\")\n",
    "            break\n",
    "\n",
    "        # Exception unhandled\n",
    "        if line == 'Arduino is ready':\n",
    "            print(\"Exception occured\")\n",
    "            break\n",
    "\n",
    "        # If I'm here it is a proper sample\n",
    "        print(line)\n",
    "        values = line.split(',')\n",
    "        if 'Message' in values[0]:\n",
    "            continue\n",
    "        \n",
    "        csv_writer.writerow(values)"
   ]
  },
  {
   "cell_type": "markdown",
   "metadata": {},
   "source": [
    "Finally we can collect the data"
   ]
  },
  {
   "cell_type": "markdown",
   "metadata": {},
   "source": [
    "### Operating point"
   ]
  },
  {
   "cell_type": "code",
   "execution_count": 7,
   "metadata": {},
   "outputs": [],
   "source": [
    "command = \"O\"\n",
    "filename = \"Operating_point.csv\""
   ]
  },
  {
   "cell_type": "code",
   "execution_count": 14,
   "metadata": {},
   "outputs": [
    {
     "name": "stdout",
     "output_type": "stream",
     "text": [
      "Message received: O. Response:\n",
      "OP\n",
      "0.243\n",
      "Finished\n"
     ]
    }
   ],
   "source": [
    "ser = serial.Serial(port, baud, timeout=timeout)\n",
    "get_dataset(build_message([command]), filename)"
   ]
  },
  {
   "cell_type": "code",
   "execution_count": 19,
   "metadata": {},
   "outputs": [
    {
     "name": "stdout",
     "output_type": "stream",
     "text": [
      "2.38383 N\n"
     ]
    }
   ],
   "source": [
    "data_frame_op = pandas.read_csv(filename)\n",
    "operating_point_thrust = data_frame_op['OP'][0] * 9.81\n",
    "print(f\"{operating_point_thrust} N\")"
   ]
  },
  {
   "cell_type": "markdown",
   "metadata": {},
   "source": [
    "### Ramp response\n",
    "To get the data, we first must send a message to the board to tell how to measure. We have to send:\n",
    "- command R to tell the board to test a ramp\n",
    "- how many samples to average for each input value\n",
    "- the distance between input values\n",
    "- minimum and maximum values to be tested\n",
    "\n",
    "After that, the board will start the test and will send back data, line by line.\n",
    "Each line sent by the board is a sample, already formatted to be written in a .csv file.\n",
    "While we read the data, we also write it into a .csv file to store all the samples."
   ]
  },
  {
   "cell_type": "code",
   "execution_count": 11,
   "metadata": {},
   "outputs": [],
   "source": [
    "# Collect the data for the ramp\n",
    "command = 'R'   # Measure\n",
    "n_samples = 10  # How many samples do I want to average for each input value\n",
    "step = 5      # Step for the input signal\n",
    "min_pwm = 1180   # Start from here\n",
    "max_pwm = 1400 # Max value to test\n",
    "filename = \"Dataset_ramp copy.csv\""
   ]
  },
  {
   "cell_type": "code",
   "execution_count": null,
   "metadata": {},
   "outputs": [],
   "source": [
    "ser = serial.Serial(port, baud, timeout=timeout)\n",
    "get_dataset(build_message([command, str(n_samples), str(step), str(min_pwm), str(max_pwm)]), filename)"
   ]
  },
  {
   "cell_type": "markdown",
   "metadata": {},
   "source": [
    "#### Plot\n",
    "Check that the data we got is good"
   ]
  },
  {
   "cell_type": "code",
   "execution_count": 12,
   "metadata": {},
   "outputs": [
    {
     "name": "stdout",
     "output_type": "stream",
     "text": [
      "        PWM       RPM  Thrust\n",
      "120  1780.0  9263.889   0.736\n",
      "121  1785.0  9288.803   0.731\n",
      "122  1790.0  9296.439   0.727\n",
      "123  1795.0  9259.141   0.728\n",
      "124  1800.0  9256.903   0.727\n"
     ]
    }
   ],
   "source": [
    "data_frame_ramp = pandas.read_csv(filename)\n",
    "print(data_frame_ramp.tail())"
   ]
  },
  {
   "cell_type": "code",
   "execution_count": 13,
   "metadata": {},
   "outputs": [
    {
     "data": {
      "text/plain": [
       "<Axes: xlabel='RPM', ylabel='Thrust'>"
      ]
     },
     "execution_count": 13,
     "metadata": {},
     "output_type": "execute_result"
    },
    {
     "data": {
      "image/png": "[encoded data removed]",
      "text/plain": [
       "<Figure size 640x480 with 1 Axes>"
      ]
     },
     "metadata": {},
     "output_type": "display_data"
    },
    {
     "data": {
      "image/png": "[encoded data removed]",
      "text/plain": [
       "<Figure size 640x480 with 1 Axes>"
      ]
     },
     "metadata": {},
     "output_type": "display_data"
    },
    {
     "data": {
      "image/png": "[encoded data removed]",
      "text/plain": [
       "<Figure size 640x480 with 1 Axes>"
      ]
     },
     "metadata": {},
     "output_type": "display_data"
    }
   ],
   "source": [
    "data_frame_ramp.plot(x='PWM', y='RPM', kind='scatter', s=3, c='blue')\n",
    "data_frame_ramp.plot(x='PWM', y='Thrust', kind='scatter', s=3, c='red')\n",
    "data_frame_ramp.plot(x='RPM', y='Thrust', kind='scatter', s=3, c='red')"
   ]
  },
  {
   "cell_type": "markdown",
   "metadata": {},
   "source": [
    "## Step response\n",
    "Now we measure the step response of the propeller.\n",
    "\n",
    "The value at which we measure it coincides with the chosen operating point in the final system.\n",
    "\n",
    "The command is built as follows:\n",
    "- command S to tell the board to test a step\n",
    "- operating point: the equilibrium point we operate at. It will be set as baseline for 2 seconds\n",
    "- step value: offset from the operating point to test (ie the step amplitude)\n",
    "- max_time: for how much time we test the step before stopping the motor\n",
    "\n",
    "In this test, the board will send the data all together at the end, due to high frequency interrupts needed to study the fast dynamics of the motor"
   ]
  },
  {
   "cell_type": "code",
   "execution_count": 29,
   "metadata": {},
   "outputs": [
    {
     "name": "stdout",
     "output_type": "stream",
     "text": [
      "1386\n"
     ]
    }
   ],
   "source": [
    "command = 'S'\n",
    "operating_point_angle = 69.51\n",
    "operating_point_pwm = int(operating_point_angle*1000/180 + 1000)\n",
    "print(operating_point_pwm)\n",
    "step_value = 200\n",
    "max_time = 2000    # milliseconds\n",
    "filename = 'Dataset_step.csv'"
   ]
  },
  {
   "cell_type": "code",
   "execution_count": 34,
   "metadata": {},
   "outputs": [
    {
     "name": "stdout",
     "output_type": "stream",
     "text": [
      "Message received: S 1386 200 2000. Response: Command: S, Step: 0, max_time: 0\n",
      "T,RPM\n",
      "0,0\n",
      "208, 288.200\n",
      "261, 1130.391\n",
      "300, 1546.950\n",
      "329, 2041.580\n",
      "352, 2597.965\n",
      "371, 3107.359\n",
      "388, 3553.029\n",
      "404, 3875.468\n",
      "418, 4109.589\n",
      "432, 4290.925\n",
      "446, 4440.498\n",
      "459, 4561.697\n",
      "472, 4660.918\n",
      "484, 4746.835\n",
      "497, 4815.409\n",
      "509, 4876.066\n",
      "521, 4926.513\n",
      "533, 4969.767\n",
      "545, 5010.020\n",
      "557, 5041.593\n",
      "569, 5071.422\n",
      "581, 5097.273\n",
      "593, 5122.951\n",
      "604, 5142.270\n",
      "616, 5159.958\n",
      "628, 5176.876\n",
      "639, 5192.108\n",
      "651, 5208.333\n",
      "662, 5217.845\n",
      "674, 5229.214\n",
      "685, 5238.802\n",
      "697, 5247.048\n",
      "708, 5255.321\n",
      "719, 5261.312\n",
      "731, 5265.929\n",
      "742, 5274.262\n",
      "753, 5279.367\n",
      "765, 5283.085\n",
      "776, 5286.810\n",
      "788, 5288.673\n",
      "799, 5292.405\n",
      "810, 5297.078\n",
      "822, 5299.417\n",
      "833, 5298.949\n",
      "844, 5304.102\n",
      "855, 5304.102\n",
      "867, 5304.571\n",
      "878, 5303.164\n",
      "889, 5304.571\n",
      "901, 5305.978\n",
      "912, 5307.855\n",
      "923, 5307.855\n",
      "935, 5308.325\n",
      "946, 5306.917\n",
      "957, 5309.265\n",
      "969, 5309.265\n",
      "980, 5307.855\n",
      "991, 5308.325\n",
      "1002, 5310.674\n",
      "1014, 5308.325\n",
      "1025, 5311.615\n",
      "1036, 5311.615\n",
      "1048, 5312.085\n",
      "1059, 5310.205\n",
      "1070, 5310.674\n",
      "1082, 5309.734\n",
      "1093, 5311.145\n",
      "1104, 5312.085\n",
      "1115, 5311.615\n",
      "1127, 5310.205\n",
      "1138, 5310.674\n",
      "1149, 5310.674\n",
      "1161, 5309.734\n",
      "1172, 5310.205\n",
      "1183, 5310.674\n",
      "1194, 5310.205\n",
      "1206, 5310.674\n",
      "1217, 5309.734\n",
      "1228, 5309.734\n",
      "1240, 5310.205\n",
      "1251, 5311.615\n",
      "1262, 5311.145\n",
      "1274, 5310.205\n",
      "1285, 5310.674\n",
      "1296, 5309.734\n",
      "1307, 5310.205\n",
      "1319, 5310.205\n",
      "1330, 5309.734\n",
      "1341, 5311.615\n",
      "1353, 5310.205\n",
      "1364, 5310.205\n",
      "1375, 5310.205\n",
      "1387, 5310.674\n",
      "1398, 5313.026\n",
      "1409, 5309.265\n",
      "1420, 5309.265\n",
      "1432, 5309.734\n",
      "1443, 5311.615\n",
      "1454, 5307.855\n",
      "1466, 5299.417\n",
      "1477, 5295.208\n",
      "1488, 5294.741\n",
      "1500, 5294.273\n",
      "1511, 5294.273\n",
      "1522, 5293.806\n",
      "1534, 5295.675\n",
      "1545, 5297.545\n",
      "1556, 5296.610\n",
      "1568, 5295.675\n",
      "1579, 5296.610\n",
      "1590, 5297.078\n",
      "1602, 5296.610\n",
      "1613, 5298.013\n",
      "1624, 5298.013\n",
      "1636, 5300.354\n",
      "1647, 5300.822\n",
      "1658, 5300.354\n",
      "1670, 5301.758\n",
      "1681, 5302.227\n",
      "1692, 5301.758\n",
      "1704, 5300.822\n",
      "1715, 5300.822\n",
      "1726, 5300.354\n",
      "1737, 5299.885\n",
      "1749, 5302.227\n",
      "1760, 5301.290\n",
      "1771, 5301.758\n",
      "1783, 5303.164\n",
      "1794, 5305.978\n",
      "1805, 5305.040\n",
      "1817, 5305.040\n",
      "1828, 5305.978\n",
      "1839, 5306.447\n",
      "1851, 5306.917\n",
      "1862, 5306.917\n",
      "1873, 5306.447\n",
      "1885, 5308.795\n",
      "1896, 5308.795\n",
      "1907, 5308.795\n",
      "1918, 5303.633\n",
      "1930, 5298.013\n",
      "1941, 5297.078\n",
      "1952, 5298.949\n",
      "1964, 5299.417\n",
      "1975, 5299.417\n",
      "1986, 5299.885\n",
      "1998, 5301.290\n",
      "2009, 5307.855\n",
      "2020, 5388.899\n",
      "2031, 5477.951\n",
      "2042, 5552.985\n",
      "2053, 5616.926\n",
      "2063, 5669.470\n",
      "2074, 5719.188\n",
      "2084, 5763.689\n",
      "2094, 5802.708\n",
      "2105, 5833.171\n",
      "2115, 5862.810\n",
      "2125, 5886.970\n",
      "2135, 5914.244\n",
      "2145, 5931.785\n",
      "2155, 5951.200\n",
      "2165, 5964.808\n",
      "2176, 5979.073\n",
      "2186, 5992.210\n",
      "2196, 6004.203\n",
      "2206, 6010.217\n",
      "2215, 6019.866\n",
      "2225, 6025.912\n",
      "2235, 6033.789\n",
      "2245, 6040.471\n",
      "2255, 6044.122\n",
      "2265, 6051.437\n",
      "2275, 6056.324\n",
      "2285, 6059.994\n",
      "2295, 6063.668\n",
      "2305, 6063.668\n",
      "2315, 6067.961\n",
      "2325, 6069.803\n",
      "2334, 6067.348\n",
      "2344, 6069.803\n",
      "2354, 6069.803\n",
      "2364, 6074.104\n",
      "2374, 6072.875\n",
      "2384, 6071.031\n",
      "2394, 6075.949\n",
      "2404, 6075.949\n",
      "2413, 6077.796\n",
      "2423, 6075.949\n",
      "2433, 6077.796\n",
      "2443, 6079.027\n",
      "2453, 6080.259\n",
      "2463, 6079.644\n",
      "2473, 6078.412\n",
      "2483, 6077.796\n",
      "2492, 6078.412\n",
      "2502, 6076.565\n",
      "2512, 6076.565\n",
      "2522, 6075.949\n",
      "2532, 6077.796\n",
      "2542, 6079.644\n",
      "2552, 6076.565\n",
      "2562, 6077.180\n",
      "2571, 6076.565\n",
      "2581, 6077.796\n",
      "2591, 6075.334\n",
      "2601, 6076.565\n",
      "2611, 6077.180\n",
      "2621, 6079.027\n",
      "2631, 6079.644\n",
      "2641, 6077.180\n",
      "2650, 6078.412\n",
      "2660, 6076.565\n",
      "2670, 6077.796\n",
      "2680, 6077.180\n",
      "2690, 6077.796\n",
      "2700, 6077.796\n",
      "2710, 6079.644\n",
      "2719, 6079.644\n",
      "2729, 6080.875\n",
      "2739, 6078.412\n",
      "2749, 6080.259\n",
      "2759, 6080.259\n",
      "2769, 6080.259\n",
      "2779, 6082.108\n",
      "2789, 6083.342\n",
      "2798, 6085.193\n",
      "2808, 6081.492\n",
      "2818, 6080.875\n",
      "2828, 6084.576\n",
      "2838, 6085.193\n",
      "2848, 6084.576\n",
      "2858, 6084.576\n",
      "2867, 6085.193\n",
      "2877, 6086.427\n",
      "2887, 6086.427\n",
      "2897, 6086.427\n",
      "2907, 6085.193\n",
      "2917, 6085.810\n",
      "2927, 6089.516\n",
      "2936, 6086.427\n",
      "2946, 6088.280\n",
      "2956, 6085.193\n",
      "2966, 6086.427\n",
      "2976, 6085.810\n",
      "2986, 6084.576\n",
      "2996, 6083.342\n",
      "3005, 6085.193\n",
      "3015, 6083.958\n",
      "3025, 6082.725\n",
      "3035, 6080.875\n",
      "3045, 6083.342\n",
      "3055, 6080.875\n",
      "3065, 6079.027\n",
      "3075, 6077.796\n",
      "3084, 6079.027\n",
      "3094, 6083.342\n",
      "3104, 6077.796\n",
      "3114, 6080.259\n",
      "3124, 6079.027\n",
      "3134, 6080.875\n",
      "3144, 6080.875\n",
      "3153, 6077.796\n",
      "3163, 6076.565\n",
      "3173, 6077.180\n",
      "3183, 6077.180\n",
      "3193, 6074.719\n",
      "3203, 6074.104\n",
      "3213, 6078.412\n",
      "3223, 6078.412\n",
      "3232, 6079.644\n",
      "3242, 6077.180\n",
      "3252, 6077.796\n",
      "3262, 6076.565\n",
      "3272, 6074.104\n",
      "3282, 6076.565\n",
      "3292, 6073.489\n",
      "3302, 6073.489\n",
      "3311, 6077.796\n",
      "3321, 6073.489\n",
      "3331, 6073.489\n",
      "3341, 6077.180\n",
      "3351, 6078.412\n",
      "3361, 6081.492\n",
      "3371, 6077.796\n",
      "3381, 6078.412\n",
      "3390, 6081.492\n",
      "3400, 6081.492\n",
      "3410, 6080.259\n",
      "3420, 6080.259\n",
      "3430, 6081.492\n",
      "3440, 6080.259\n",
      "3450, 6082.108\n",
      "3460, 6082.725\n",
      "3469, 6081.492\n",
      "3479, 6083.958\n",
      "3489, 6083.958\n",
      "3499, 6082.725\n",
      "3509, 6080.259\n",
      "3519, 6082.108\n",
      "3529, 6085.193\n",
      "3538, 6082.725\n",
      "3548, 6081.492\n",
      "3558, 6081.492\n",
      "3568, 6082.725\n",
      "3578, 6081.492\n",
      "3588, 6079.644\n",
      "3598, 6080.875\n",
      "3607, 6080.875\n",
      "3617, 6082.725\n",
      "3627, 6080.259\n",
      "3637, 6079.027\n",
      "3647, 6077.180\n",
      "3657, 6080.259\n",
      "3667, 6079.644\n",
      "3677, 6078.412\n",
      "3686, 6075.949\n",
      "3696, 6078.412\n",
      "3706, 6075.334\n",
      "3716, 6075.334\n",
      "3726, 6077.796\n",
      "3736, 6079.027\n",
      "3746, 6080.875\n",
      "3756, 6080.259\n",
      "3765, 6077.180\n",
      "3775, 6077.180\n",
      "3785, 6077.180\n",
      "3795, 6079.644\n",
      "3805, 6077.796\n",
      "3815, 6079.027\n",
      "3825, 6077.796\n",
      "3835, 6080.875\n",
      "3844, 6080.259\n",
      "3854, 6079.027\n",
      "3864, 6077.796\n",
      "3874, 6080.875\n",
      "3884, 6080.875\n",
      "3894, 6080.875\n",
      "3904, 6080.875\n",
      "3913, 6083.958\n",
      "3923, 6082.725\n",
      "3933, 6081.492\n",
      "3943, 6082.725\n",
      "3953, 6083.958\n",
      "3963, 6085.193\n",
      "3973, 6083.342\n",
      "3982, 6085.810\n",
      "3992, 6083.958\n",
      "Finished\n"
     ]
    }
   ],
   "source": [
    "ser = serial.Serial(port, baud, timeout=timeout)\n",
    "get_dataset(build_message([command, str(operating_point_pwm), str(step_value), str(max_time)]), filename)"
   ]
  },
  {
   "cell_type": "code",
   "execution_count": 35,
   "metadata": {},
   "outputs": [
    {
     "name": "stdout",
     "output_type": "stream",
     "text": [
      "        T       RPM\n",
      "344  3953  6083.958\n",
      "345  3963  6085.193\n",
      "346  3973  6083.342\n",
      "347  3982  6085.810\n",
      "348  3992  6083.958\n"
     ]
    },
    {
     "data": {
      "text/plain": [
       "[<matplotlib.lines.Line2D at 0x7fe48792c3d0>]"
      ]
     },
     "execution_count": 35,
     "metadata": {},
     "output_type": "execute_result"
    },
    {
     "data": {
      "image/png": "[encoded data removed]",
      "text/plain": [
       "<Figure size 640x480 with 1 Axes>"
      ]
     },
     "metadata": {},
     "output_type": "display_data"
    }
   ],
   "source": [
    "data_frame_step = pandas.read_csv(filename)\n",
    "print(data_frame_step.tail())\n",
    "fig,ax = plt.subplots()\n",
    "ax.plot(data_frame_step['T'], data_frame_step['RPM'], 'kx')"
   ]
  }
 ],
 "metadata": {
  "kernelspec": {
   "display_name": "Python 3 (ipykernel)",
   "language": "python",
   "name": "python3"
  },
  "language_info": {
   "codemirror_mode": {
    "name": "ipython",
    "version": 3
   },
   "file_extension": ".py",
   "mimetype": "text/x-python",
   "name": "python",
   "nbconvert_exporter": "python",
   "pygments_lexer": "ipython3",
   "version": "3.11.3"
  },
  "orig_nbformat": 4,
  "vscode": {
   "interpreter": {
    "hash": "e7370f93d1d0cde622a1f8e1c04877d8463912d04d973331ad4851f04de6915a"
   }
  }
 },
 "nbformat": 4,
 "nbformat_minor": 2
}
